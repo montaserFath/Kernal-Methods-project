{
 "cells": [
  {
   "cell_type": "markdown",
   "metadata": {},
   "source": [
    "#  \n",
    "# by: Montaser Mohammedalamen\n",
    "# Date: 3 Feb 2019"
   ]
  },
  {
   "cell_type": "markdown",
   "metadata": {},
   "source": [
    "### Importing Libaraies "
   ]
  },
  {
   "cell_type": "code",
   "execution_count": 20,
   "metadata": {},
   "outputs": [],
   "source": [
    "from matplotlib import pyplot as plt\n",
    "from scipy.spatial.distance import pdist, squareform\n",
    "from scipy import exp\n",
    "from scipy.linalg import eigh\n",
    "\n",
    "import pandas as pd\n",
    "import numpy as np\n",
    "from numpy import linalg as LA\n",
    "\n",
    "import sklearn\n",
    "from sklearn import metrics\n",
    "from sklearn import linear_model as lm\n",
    "from sklearn import svm\n",
    "from sklearn.model_selection import cross_val_score as cvs\n",
    "from sklearn.decomposition import KernelPCA\n",
    "from sklearn.model_selection import cross_val_score\n",
    "from sklearn.gaussian_process import GaussianProcessClassifier\n",
    "from sklearn.gaussian_process.kernels import RBF\n",
    "from sklearn.model_selection import cross_validate\n",
    "from sklearn.model_selection import train_test_split\n",
    "from sklearn.datasets import make_classification\n",
    "from sklearn.ensemble import ExtraTreesClassifier\n",
    "from sklearn.linear_model import LogisticRegression\n",
    "from sklearn.naive_bayes import GaussianNB\n",
    "from sklearn.ensemble import RandomForestClassifier, VotingClassifier"
   ]
  },
  {
   "cell_type": "markdown",
   "metadata": {},
   "source": [
    "### Read Data from text file and convert it to numpy arraies"
   ]
  },
  {
   "cell_type": "code",
   "execution_count": 24,
   "metadata": {},
   "outputs": [
    {
     "name": "stdout",
     "output_type": "stream",
     "text": [
      "xtrain shape (184, 4654)\n",
      "ytrain shape (184, 1)\n",
      "xtest  shape (92, 4654)\n"
     ]
    }
   ],
   "source": [
    "xtrain=pd.read_table('Data/xtrain.txt',header=None)\n",
    "xtrain=np.array(xtrain)\n",
    "xtrain=xtrain.T[1:,]# remove the first colume\n",
    "\n",
    "ytrain = pd.read_csv('Data/ytrain.txt',header=None)\n",
    "ytrain=np.array(ytrain)\n",
    "\n",
    "xtest=pd.read_table('Data/xtest.txt',header=None)\n",
    "xtest=np.array(xtest)\n",
    "xtest=xtest.T[1:,]# remove the first colume\n",
    "\n",
    "print('xtrain shape',xtrain.shape)\n",
    "print('ytrain shape',ytrain.shape)\n",
    "print('xtest  shape',xtest.shape)"
   ]
  },
  {
   "cell_type": "markdown",
   "metadata": {},
   "source": [
    "### plot labels to show that this data is unbalanced"
   ]
  },
  {
   "cell_type": "code",
   "execution_count": 6,
   "metadata": {},
   "outputs": [
    {
     "data": {
      "image/png": "[encoded data removed]",
      "text/plain": [
       "<Figure size 432x288 with 1 Axes>"
      ]
     },
     "metadata": {
      "needs_background": "light"
     },
     "output_type": "display_data"
    }
   ],
   "source": [
    "# plt.hist(ytrain,label='Unbalanced Data',histtype='barstacked',orientation='horizontal')\n",
    "plt.bar([-1,1],[np.count_nonzero(ytrain==1),np.count_nonzero(ytrain==-1)],color=['black', 'red'])\n",
    "plt.show()"
   ]
  },
  {
   "cell_type": "markdown",
   "metadata": {},
   "source": [
    "### Creat Balanced Data"
   ]
  },
  {
   "cell_type": "code",
   "execution_count": 7,
   "metadata": {},
   "outputs": [],
   "source": [
    "def balance_data (xtrain,ytrain): \n",
    "    x_y=np.zeros((184,4655))\n",
    "    neg_index=0\n",
    "    for i in range (ytrain.shape[0]):\n",
    "        if ytrain[i,0]==1:\n",
    "            x_y[i]=np.concatenate((xtrain[i+1],ytrain[i]))\n",
    "        else:\n",
    "            while neg_index ==66: \n",
    "                break\n",
    "            else:    \n",
    "                neg_index+=1\n",
    "                x_y[i]=np.concatenate((xtrain[i+1],ytrain[i]))\n",
    "    x_y=x_y[~np.all(x_y == 0, axis=1)]\n",
    "    xtrain_balance=x_y[:,0:4654]\n",
    "    ytrain_balance=x_y[:,4654:]\n",
    "    return xtrain_balance,ytrain_balance"
   ]
  },
  {
   "cell_type": "code",
   "execution_count": 8,
   "metadata": {},
   "outputs": [],
   "source": [
    "xtrain_balance,ytrain_balance=balance_data (xtrain,ytrain)"
   ]
  },
  {
   "cell_type": "markdown",
   "metadata": {},
   "source": [
    "### Kernel PCA"
   ]
  },
  {
   "cell_type": "code",
   "execution_count": 9,
   "metadata": {},
   "outputs": [],
   "source": [
    "def stepwise_kpca(X, gamma=0.0001, n_components=123):\n",
    "    sq_dists = pdist(X, 'sqeuclidean')\n",
    "    mat_sq_dists = squareform(sq_dists)\n",
    "    K = exp(-gamma * mat_sq_dists)\n",
    "    N = K.shape[0]\n",
    "    one_n = np.ones((N,N)) / N\n",
    "    eigvals, eigvecs = eigh(K)\n",
    "    X_pc = np.column_stack((eigvecs[:,-i] for i in range(1,n_components+1)))\n",
    "    return X_pc"
   ]
  },
  {
   "cell_type": "markdown",
   "metadata": {},
   "source": [
    "### Features Selection"
   ]
  },
  {
   "cell_type": "markdown",
   "metadata": {},
   "source": [
    "### Cross Validation Single SVM"
   ]
  },
  {
   "cell_type": "code",
   "execution_count": 14,
   "metadata": {},
   "outputs": [],
   "source": [
    "def cross_validation_SVM (xtrain,ytrain,number_exp=5):\n",
    "    acc=[]\n",
    "    score=[]\n",
    "    under_curve=[]\n",
    "    for j in range (number_exp):\n",
    "        rand_nu=np.random.randint(0,100)\n",
    "        X_train, X_test, y_train, y_test = train_test_split(xtrain, ytrain, test_size=0.2, random_state=rand_nu)\n",
    "        clf = svm.SVC(gamma='scale', decision_function_shape='ovo',probability=True)\n",
    "        clf.fit(X_train, y_train.reshape(-1,))\n",
    "        acc.append(clf.score(X_test,y_test)*100)\n",
    "        prob=clf.decision_function(X_test)\n",
    "        ror= metrics.roc_auc_score(y_test,prob)\n",
    "        under_curve.append(ror)\n",
    "    print('total accuercy form {} experiments = {:.2f} %     std= {:.2f}'.format(number_exp,np.mean(acc),np.std(acc)))\n",
    "    print('the total area under the curve = {:.2f}      std= {:.2f}'.format(np.mean(under_curve),np.std(under_curve)))\n",
    "    return np.mean(under_curve)"
   ]
  },
  {
   "cell_type": "markdown",
   "metadata": {},
   "source": [
    "### Cross Validation voting from 3 SVMs"
   ]
  },
  {
   "cell_type": "code",
   "execution_count": 15,
   "metadata": {},
   "outputs": [],
   "source": [
    "def cross_validation_multi_SVM (xtrain,ytrain,number_exp=5, number_GP=3):\n",
    "    acc=[]\n",
    "    score=[]\n",
    "    under_curve=[]\n",
    "    for j in range (number_exp):\n",
    "        rand_nu=np.random.randint(0,100)\n",
    "        X_train, X_test, y_train, y_test = train_test_split(xtrain, ytrain, test_size=0.2, random_state=rand_nu)\n",
    "#         for g in range (number_GP):\n",
    "        clf1 = svm.SVC(gamma='scale', decision_function_shape='ovo',probability=True)\n",
    "        clf1.fit(X_train, y_train.reshape(-1,))\n",
    "        clf2 = svm.SVC(gamma='scale', decision_function_shape='ovo',probability=True)\n",
    "        clf2.fit(X_train, y_train.reshape(-1,))\n",
    "        clf3 = svm.SVC(gamma='scale', decision_function_shape='ovo',probability=True)\n",
    "        clf3.fit(X_train, y_train.reshape(-1,))\n",
    "        vote=VotingClassifier(estimators=[('lr', clf1), ('rf', clf2), ('gnb', clf3)], voting='soft')\n",
    "        vote.fit(X_train, y_train.reshape(-1,))\n",
    "        acc.append(vote.score(X_test,y_test)*100)\n",
    "#         prob=vote.predict(X_test)\n",
    "        prob=vote.predict_proba(X_test)\n",
    "        ror= metrics.roc_auc_score(y_test,prob[:,1])\n",
    "        under_curve.append(ror)\n",
    "    print('total accuercy form {} experiments = {:.2f} %     std= {:.2f}'.format(number_exp,np.mean(acc),np.std(acc)))\n",
    "    print('the total area under the curve = {:.2f}      std= {:.2f}'.format(np.mean(under_curve),np.std(under_curve)))\n",
    "    return np.mean(under_curve)"
   ]
  },
  {
   "cell_type": "markdown",
   "metadata": {},
   "source": [
    "### Test "
   ]
  },
  {
   "cell_type": "markdown",
   "metadata": {},
   "source": [
    "## Xtrain, ytrain"
   ]
  },
  {
   "cell_type": "code",
   "execution_count": 19,
   "metadata": {},
   "outputs": [
    {
     "name": "stdout",
     "output_type": "stream",
     "text": [
      "Single SVM\n",
      "total accuercy form 5 experiments = 65.41 %     std= 6.92\n",
      "the total area under the curve = 0.71      std= 0.04\n",
      "Multi SVMs\n",
      "total accuercy form 5 experiments = 59.46 %     std= 4.83\n",
      "the total area under the curve = 0.61      std= 0.06\n"
     ]
    },
    {
     "data": {
      "text/plain": [
       "0.6120456704420898"
      ]
     },
     "execution_count": 19,
     "metadata": {},
     "output_type": "execute_result"
    }
   ],
   "source": [
    "print('Single SVM')\n",
    "cross_validation_SVM(xtrain,ytrain)\n",
    "print('Multi SVMs')\n",
    "cross_validation_multi_SVM(xtrain,ytrain)"
   ]
  },
  {
   "cell_type": "markdown",
   "metadata": {},
   "source": [
    "### PCA"
   ]
  },
  {
   "cell_type": "code",
   "execution_count": 18,
   "metadata": {},
   "outputs": [
    {
     "name": "stdout",
     "output_type": "stream",
     "text": [
      "Single SVM\n",
      "total accuercy form 5 experiments = 59.46 %     std= 2.96\n",
      "the total area under the curve = 0.61      std= 0.04\n",
      "Multi SVMs\n",
      "total accuercy form 5 experiments = 64.86 %     std= 5.92\n",
      "the total area under the curve = 0.60      std= 0.03\n"
     ]
    },
    {
     "data": {
      "text/plain": [
       "0.5972856772856773"
      ]
     },
     "execution_count": 18,
     "metadata": {},
     "output_type": "execute_result"
    }
   ],
   "source": [
    "X_pc_unbalance= stepwise_kpca(xtrain,gamma=0.00001,n_components=99)\n",
    "print('Single SVM')\n",
    "cross_validation_SVM(X_pc_unbalance,ytrain)\n",
    "print('Multi SVMs')\n",
    "cross_validation_multi_SVM(X_pc_unbalance,ytrain)"
   ]
  },
  {
   "cell_type": "code",
   "execution_count": null,
   "metadata": {},
   "outputs": [],
   "source": []
  }
 ],
 "metadata": {
  "kernelspec": {
   "display_name": "Python 3",
   "language": "python",
   "name": "python3"
  },
  "language_info": {
   "codemirror_mode": {
    "name": "ipython",
    "version": 3
   },
   "file_extension": ".py",
   "mimetype": "text/x-python",
   "name": "python",
   "nbconvert_exporter": "python",
   "pygments_lexer": "ipython3",
   "version": "3.6.6"
  }
 },
 "nbformat": 4,
 "nbformat_minor": 2
}
